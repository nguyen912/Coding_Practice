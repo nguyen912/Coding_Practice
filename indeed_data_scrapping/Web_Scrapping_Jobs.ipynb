{
 "cells": [
  {
   "cell_type": "markdown",
   "metadata": {},
   "source": [
    "### Import needed libraries, packages"
   ]
  },
  {
   "cell_type": "code",
   "execution_count": 77,
   "metadata": {},
   "outputs": [],
   "source": [
    "from selenium.webdriver.common.by import By\n",
    "from selenium import webdriver\n",
    "from selenium.webdriver.common.keys import Keys\n",
    "\n",
    "from selenium.webdriver.support.ui import WebDriverWait\n",
    "from selenium.webdriver.support import expected_conditions as EC\n",
    "from selenium.webdriver.common.by import By\n",
    "\n",
    "import time\n",
    "import pandas as pd\n",
    "import numpy as np\n",
    "\n",
    "import os\n",
    "import glob\n",
    "import re\n",
    "\n",
    "from pandas import DataFrame"
   ]
  },
  {
   "cell_type": "markdown",
   "metadata": {},
   "source": [
    "### Setup driver"
   ]
  },
  {
   "cell_type": "code",
   "execution_count": 78,
   "metadata": {},
   "outputs": [],
   "source": [
    "# DRIVER_PATH = 'chromedriver.exe'\n",
    "# driver = webdriver.Chrome(executable_path = DRIVER_PATH)\n",
    "# #set on driver object, look for element for X seconds before quitting\n",
    "# driver.implicitly_wait(1) \n",
    "# driver.get('https://www.indeed.com/stc?_ga=2.63393007.1966857820.1656152873-1453494806.1656152873')"
   ]
  },
  {
   "cell_type": "markdown",
   "metadata": {},
   "source": [
    "### Login"
   ]
  },
  {
   "cell_type": "code",
   "execution_count": 79,
   "metadata": {},
   "outputs": [],
   "source": [
    "# credential = open(\"login_credential.txt\")\n",
    "# line = credential.readlines()\n",
    "# email = line[0]\n",
    "# password = line[1]"
   ]
  },
  {
   "cell_type": "code",
   "execution_count": 80,
   "metadata": {},
   "outputs": [],
   "source": [
    "# time.sleep(3)\n",
    "# move_to_login = 'https://secure.indeed.com/account/login?hl=en_US&co=US&continue=https%3A%2F%2Fwww.indeed.com%2F&tmpl=desktop&service=my&from=gnav-util-homepage&jsContinue=https%3A%2F%2Fwww.indeed.com%2F&empContinue=https%3A%2F%2Faccount.indeed.com%2Fmyaccess&_ga=2.265066826.455748420.1656142970-1572689691.1656142970'\n",
    "# driver.get(move_to_login)\n",
    "\n",
    "# time.sleep(3)\n",
    "# email_input = driver.find_element(By.XPATH, '//*[@id=\"ifl-InputFormField-3\"]')\n",
    "# email_input.send_keys(email)\n",
    "\n",
    "# time.sleep(3)\n",
    "# continue_btn = driver.find_element(By.XPATH, '//*[@id=\"emailform\"]/button')\n",
    "# continue_btn.click()\n",
    "\n",
    "# time.sleep(3)\n",
    "# log_pass_instead = driver.find_element(By.XPATH, '//*[@id=\"auth-page-google-password-fallback\"]')\n",
    "# log_pass_instead.click()\n",
    "\n",
    "# time.sleep(5)\n",
    "# pass_input = driver.find_element(By.XPATH, '//*[@id=\"ifl-InputFormField-121\"]')\n",
    "# pass_input.send_keys(password)\n",
    "\n",
    "# time.sleep(3)\n",
    "# login_btn = driver.find_element(By.XPATH, '//*[@id=\"loginform\"]/button')\n",
    "# login_btn.click()"
   ]
  },
  {
   "cell_type": "markdown",
   "metadata": {},
   "source": [
    "### When pop up window comes up"
   ]
  },
  {
   "cell_type": "code",
   "execution_count": 81,
   "metadata": {},
   "outputs": [],
   "source": [
    "# close_popup = driver.find_element_by_id(\"popover-close-link\")\n",
    "# close_popup.click()"
   ]
  },
  {
   "cell_type": "markdown",
   "metadata": {},
   "source": [
    "### Use for loops to get all the info at once. "
   ]
  },
  {
   "cell_type": "markdown",
   "metadata": {},
   "source": [
    "#### Setup time to record the crawling duration"
   ]
  },
  {
   "cell_type": "code",
   "execution_count": 82,
   "metadata": {},
   "outputs": [],
   "source": [
    "starttime = time.time()"
   ]
  },
  {
   "cell_type": "code",
   "execution_count": 83,
   "metadata": {},
   "outputs": [
    {
     "name": "stderr",
     "output_type": "stream",
     "text": [
      "<>:9: SyntaxWarning: \"is not\" with a literal. Did you mean \"!=\"?\n",
      "<>:9: SyntaxWarning: \"is not\" with a literal. Did you mean \"!=\"?\n",
      "<>:9: SyntaxWarning: \"is not\" with a literal. Did you mean \"!=\"?\n",
      "<>:9: SyntaxWarning: \"is not\" with a literal. Did you mean \"!=\"?\n",
      "C:\\Users\\nguye\\AppData\\Local\\Temp\\ipykernel_3620\\1945847825.py:9: SyntaxWarning: \"is not\" with a literal. Did you mean \"!=\"?\n",
      "  while word is not 'done':\n",
      "C:\\Users\\nguye\\AppData\\Local\\Temp\\ipykernel_3620\\1945847825.py:9: SyntaxWarning: \"is not\" with a literal. Did you mean \"!=\"?\n",
      "  while word is not 'done':\n"
     ]
    }
   ],
   "source": [
    "def input_keywords():\n",
    "    '''\n",
    "        Func uses for input a list of keywords\n",
    "        Return: A list of keywords\n",
    "    '''\n",
    "    # keywords = ['software engineer', 'developer', 'development', 'data analyst', 'data engineer', 'data scientist', 'data science']\n",
    "    keywords = []\n",
    "    word = ''\n",
    "    while word is not 'done':\n",
    "        word = input(\"Enter the keywords you want to search. Finish the entering by 'done'\")\n",
    "        keywords.append(word.strip().strip('\\t').strip('\\n'))\n",
    "    return keywords"
   ]
  },
  {
   "cell_type": "code",
   "execution_count": 84,
   "metadata": {},
   "outputs": [],
   "source": [
    "def search_keyword(word):\n",
    "    '''\n",
    "        Func uses for input and execute keyword searching\n",
    "        Params: a specific word\n",
    "    '''\n",
    "    search_job = driver.find_element(By.XPATH, '//*[@id=\"text-input-what\"]')\n",
    "    search_job.send_keys(word)\n",
    "    search_button = driver.find_element(By.XPATH, '//*[@id=\"jobsearch\"]/button')\n",
    "    search_button.click()"
   ]
  },
  {
   "cell_type": "code",
   "execution_count": 85,
   "metadata": {},
   "outputs": [],
   "source": [
    "def goto_nextpage(word, page):\n",
    "    '''\n",
    "        Func uses to navigate to the next page\n",
    "        Params: a keyword, page number\n",
    "    '''\n",
    "    if ' ' in word:\n",
    "        uri = word.split(' ')\n",
    "        word1 = uri[0]\n",
    "        word2 = uri[1]\n",
    "        try:\n",
    "            next_page = driver.get(f'https://www.indeed.com/jobs?q={word1}%20{word2}&start={(page)*10}')\n",
    "\n",
    "        except:\n",
    "            next_page = driver.get(f'https://www.indeed.com/jobs?q={word1}%20{word2}&start={(page)*10}')\n",
    "    else:\n",
    "        try:\n",
    "            next_page = driver.get(f'https://www.indeed.com/jobs?q={word}&start={(page)*10}')\n",
    "\n",
    "        except:\n",
    "            next_page = driver.get(f'https://www.indeed.com/jobs?q={word}&start={(page)*10}')"
   ]
  },
  {
   "cell_type": "code",
   "execution_count": 86,
   "metadata": {},
   "outputs": [],
   "source": [
    "# # Initialize count variable to order csv files\n",
    "# count = 10\n",
    "\n",
    "# # Input a list of keywords\n",
    "# # keywords = input_keywords()\n",
    "# # keywords = ['data science', 'data analyst', 'data engineer', 'data scientist', 'software engineer', 'developer', 'web developer', 'mobile developer', 'devops', 'development']\n",
    "# keywords = ['development']\n",
    "# for keyword in keywords:\n",
    "\n",
    "#     titles=[]\n",
    "#     companies=[]\n",
    "#     locations=[]\n",
    "#     links = []\n",
    "#     salaries = []\n",
    "#     types = []\n",
    "#     descriptions=[]\n",
    "#     categories = []\n",
    "\n",
    "#     # Clear console before going to the next keyword\n",
    "#     os.system('clear')\n",
    "#     # Then print the new keyword to keep track\n",
    "#     print(keyword)\n",
    "    \n",
    "#     # Execute searching keyword and return the first result page\n",
    "#     search_keyword(keyword)\n",
    "    \n",
    "#     # First page\n",
    "#     page = 1\n",
    "\n",
    "#     # Lopp from page 1 to page 65\n",
    "#     for page in range(1, 66):\n",
    "#         # Print page number to console\n",
    "#         print(f'{keyword} - Page {page}')\n",
    "        \n",
    "#         # Find the list of job cards\n",
    "#         job_card = driver.find_elements(By.XPATH, '//div[contains(@class,\"job_seen_beacon\")]')\n",
    "        \n",
    "#         # Iterate to job cards\n",
    "#         for job in job_card:\n",
    "#             # Find DOM element that contains job's tilte\n",
    "#             try:\n",
    "#                 title  = job.find_element(By.XPATH,'//*[@class=\"jobTitle\"]/a/span').text\n",
    "#             except:\n",
    "#                 # If cannot find the element, set title is NULL\n",
    "#                 title  = None\n",
    "#                 # Append the title text to list\n",
    "#             titles.append(title)\n",
    "\n",
    "#             # The belows are same as finding title\n",
    "#             try:    \n",
    "#                 company  = job.find_element(By.XPATH,'.//span[@class=\"companyName\"]').text\n",
    "#             except:\n",
    "#                 company  = None\n",
    "#             companies.append(company)\n",
    "\n",
    "#             try:\n",
    "#                 location  = job.find_element(By.XPATH,'.//div[@class=\"companyLocation\"]').text\n",
    "#             except:\n",
    "#                 location  = None\n",
    "#             locations.append(location)\n",
    "\n",
    "#             try:\n",
    "#                 salary = job.find_element(By.XPATH,'.//span[@class=\"estimated-salary\"]').text\n",
    "#             except:\n",
    "#                 salary = None\n",
    "#             salaries.append(salary)\n",
    "\n",
    "#             try:\n",
    "#                 type = job.find_element(By.XPATH,'.//div[@class=\"metadata\"]/div[@class=\"attribute_snippet\"]').text\n",
    "#             except:\n",
    "#                 type = None\n",
    "#             types.append(type)\n",
    "#             categories.append(keyword)\n",
    "\n",
    "#             # print(f'{title}; {company}; {location}; {salary}; {type}')\n",
    "            \n",
    "#         # Navigate to the next page\n",
    "#         goto_nextpage(keyword, page)\n",
    "\n",
    "        \n",
    "#     # Mark a keyword crawling process is done.\n",
    "#     print('crawling completed.')\n",
    "\n",
    "#     driver.get('https://www.indeed.com/stc?_ga=2.63393007.1966857820.1656152873-1453494806.1656152873')\n",
    "\n",
    "#     # Start writing csv file process.\n",
    "#     print('Starting wrtie to csv file....')\n",
    "#     df_da=pd.DataFrame()\n",
    "#     df_da['Title']=titles\n",
    "#     df_da['Company']=companies\n",
    "#     df_da['Location']=locations\n",
    "#     df_da['Salary']=salaries\n",
    "#     df_da['Type']=types\n",
    "#     df_da['Category']=categories\n",
    "\n",
    "#     df_da.to_csv(f'output\\\\part00{count}.csv', index=False, sep=';')\n",
    "\n",
    "#     # Increase count for next file\n",
    "#     count += 1\n",
    "\n",
    "#     # Fnish writing csv file process.\n",
    "#     print(f'Finish write {keyword} data to csv file.')"
   ]
  },
  {
   "cell_type": "code",
   "execution_count": 87,
   "metadata": {},
   "outputs": [],
   "source": [
    "# endtime = time.time()\n",
    "# process_time = round((endtime-starttime)/60,2)\n",
    "# print(\"Processing Time: {} min\".format(process_time))"
   ]
  },
  {
   "cell_type": "code",
   "execution_count": 88,
   "metadata": {},
   "outputs": [],
   "source": [
    "# from collections import Counter\n",
    "\n",
    "# my_count = Counter(locations)\n",
    "# my_count   "
   ]
  },
  {
   "cell_type": "code",
   "execution_count": 89,
   "metadata": {},
   "outputs": [],
   "source": [
    "# titles"
   ]
  },
  {
   "cell_type": "code",
   "execution_count": 90,
   "metadata": {},
   "outputs": [],
   "source": [
    "# companies"
   ]
  },
  {
   "cell_type": "code",
   "execution_count": 91,
   "metadata": {},
   "outputs": [],
   "source": [
    "# locations"
   ]
  },
  {
   "cell_type": "code",
   "execution_count": 92,
   "metadata": {},
   "outputs": [],
   "source": [
    "# salaries"
   ]
  },
  {
   "cell_type": "code",
   "execution_count": 93,
   "metadata": {},
   "outputs": [],
   "source": [
    "# types"
   ]
  },
  {
   "cell_type": "code",
   "execution_count": 94,
   "metadata": {},
   "outputs": [
    {
     "name": "stdout",
     "output_type": "stream",
     "text": [
      "                    Title                            Company  \\\n",
      "0     Junior Data Labeler                           Deloitte   \n",
      "1     Junior Data Labeler                        Mayo Clinic   \n",
      "2     Junior Data Labeler  Electric Power Research Institute   \n",
      "3     Junior Data Labeler                          pulseData   \n",
      "4     Junior Data Labeler                             Radian   \n",
      "...                   ...                                ...   \n",
      "9740    DevOps Engineer I                       Endurance IT   \n",
      "9741    DevOps Engineer I                             Nuanza   \n",
      "9742    DevOps Engineer I                              IQVIA   \n",
      "9743    DevOps Engineer I                              Amgen   \n",
      "9744    DevOps Engineer I                      Privia Health   \n",
      "\n",
      "                                               Location  \\\n",
      "0      Rosslyn, VA 22209\\n(Radnor-Ft Myer Heights area)   \n",
      "1                           Rochester, MN\\n+7 locations   \n",
      "2                           Charlotte, NC\\n+2 locations   \n",
      "3                                Remote in New York, NY   \n",
      "4                       Remote in Maryland\\n+1 location   \n",
      "...                                                 ...   \n",
      "9740  Virginia Beach, VA 23452\\n(Thalia area)\\n+1 lo...   \n",
      "9741                                 McKinney, TX 75070   \n",
      "9742                                             Remote   \n",
      "9743                          Remote in Tampa, FL 33602   \n",
      "9744                      Remote in Arlington, VA 22203   \n",
      "\n",
      "                                Salary       Type      Category  \n",
      "0                                  NaN  Full-time  data science  \n",
      "1                                  NaN  Full-time  data science  \n",
      "2     Estimated $65.2K - $82.6K a year  Part-time  data science  \n",
      "3      Estimated $86.6K - $110K a year  Full-time  data science  \n",
      "4                                  NaN  Full-time  data science  \n",
      "...                                ...        ...           ...  \n",
      "9740  Estimated $71.7K - $90.9K a year        NaN        devops  \n",
      "9741   Estimated $90.7K - $115K a year        NaN        devops  \n",
      "9742                               NaN  Full-time        devops  \n",
      "9743                               NaN  Full-time        devops  \n",
      "9744    Estimated $106K - $134K a year  Full-time        devops  \n",
      "\n",
      "[9745 rows x 6 columns]\n",
      "                    Title                            Company  \\\n",
      "0     Junior Data Labeler                           Deloitte   \n",
      "1     Junior Data Labeler                        Mayo Clinic   \n",
      "2     Junior Data Labeler  Electric Power Research Institute   \n",
      "3     Junior Data Labeler                          pulseData   \n",
      "4     Junior Data Labeler                             Radian   \n",
      "...                   ...                                ...   \n",
      "9740    DevOps Engineer I                       Endurance IT   \n",
      "9741    DevOps Engineer I                             Nuanza   \n",
      "9742    DevOps Engineer I                              IQVIA   \n",
      "9743    DevOps Engineer I                              Amgen   \n",
      "9744    DevOps Engineer I                      Privia Health   \n",
      "\n",
      "                                               Location  \\\n",
      "0      Rosslyn, VA 22209\\n(Radnor-Ft Myer Heights area)   \n",
      "1                           Rochester, MN\\n+7 locations   \n",
      "2                           Charlotte, NC\\n+2 locations   \n",
      "3                                Remote in New York, NY   \n",
      "4                       Remote in Maryland\\n+1 location   \n",
      "...                                                 ...   \n",
      "9740  Virginia Beach, VA 23452\\n(Thalia area)\\n+1 lo...   \n",
      "9741                                 McKinney, TX 75070   \n",
      "9742                                             Remote   \n",
      "9743                          Remote in Tampa, FL 33602   \n",
      "9744                      Remote in Arlington, VA 22203   \n",
      "\n",
      "                                Salary       Type  \n",
      "0                                  NaN  Full-time  \n",
      "1                                  NaN  Full-time  \n",
      "2     Estimated $65.2K - $82.6K a year  Part-time  \n",
      "3      Estimated $86.6K - $110K a year  Full-time  \n",
      "4                                  NaN  Full-time  \n",
      "...                                ...        ...  \n",
      "9740  Estimated $71.7K - $90.9K a year        NaN  \n",
      "9741   Estimated $90.7K - $115K a year        NaN  \n",
      "9742                               NaN  Full-time  \n",
      "9743                               NaN  Full-time  \n",
      "9744    Estimated $106K - $134K a year  Full-time  \n",
      "\n",
      "[9509 rows x 5 columns]\n",
      "                    Title                            Company  \\\n",
      "2     Junior Data Labeler  Electric Power Research Institute   \n",
      "3     Junior Data Labeler                          pulseData   \n",
      "5     Junior Data Labeler                     Paliwoda Group   \n",
      "6     Junior Data Labeler                      Digital Trike   \n",
      "7     Junior Data Labeler                         Ars Quanta   \n",
      "...                   ...                                ...   \n",
      "9736    DevOps Engineer I                   Mission Lane LLC   \n",
      "9738    DevOps Engineer I                             Vensit   \n",
      "9740    DevOps Engineer I                       Endurance IT   \n",
      "9741    DevOps Engineer I                             Nuanza   \n",
      "9744    DevOps Engineer I                      Privia Health   \n",
      "\n",
      "                                               Location  \\\n",
      "2                           Charlotte, NC\\n+2 locations   \n",
      "3                                Remote in New York, NY   \n",
      "5                                          New York, NY   \n",
      "6                                South Jordan, UT 84095   \n",
      "7                                           Seattle, WA   \n",
      "...                                                 ...   \n",
      "9736                  Remote in Miami, FL\\n+3 locations   \n",
      "9738                               Sayreville, NJ 08872   \n",
      "9740  Virginia Beach, VA 23452\\n(Thalia area)\\n+1 lo...   \n",
      "9741                                 McKinney, TX 75070   \n",
      "9744                      Remote in Arlington, VA 22203   \n",
      "\n",
      "                                Salary       Type  \n",
      "2     Estimated $65.2K - $82.6K a year  Part-time  \n",
      "3      Estimated $86.6K - $110K a year  Full-time  \n",
      "5     Estimated $74.7K - $94.5K a year        NaN  \n",
      "6     Estimated $74.9K - $94.9K a year        NaN  \n",
      "7      Estimated $96.1K - $122K a year        NaN  \n",
      "...                                ...        ...  \n",
      "9736    Estimated $154K - $195K a year        NaN  \n",
      "9738    Estimated $121K - $153K a year        NaN  \n",
      "9740  Estimated $71.7K - $90.9K a year        NaN  \n",
      "9741   Estimated $90.7K - $115K a year        NaN  \n",
      "9744    Estimated $106K - $134K a year  Full-time  \n",
      "\n",
      "[3761 rows x 5 columns]\n",
      "                    min  Min Salary             max  Max Salary  Avg Salary\n",
      "2     Estimated $65.2K      65200.0   $82.6K a year     82600.0     73900.0\n",
      "3     Estimated $86.6K      86600.0    $110K a year    110000.0     98300.0\n",
      "5     Estimated $74.7K      74700.0   $94.5K a year     94500.0     84600.0\n",
      "6     Estimated $74.9K      74900.0   $94.9K a year     94900.0     84900.0\n",
      "7     Estimated $96.1K      96100.0    $122K a year    122000.0    109050.0\n",
      "...                 ...         ...             ...         ...         ...\n",
      "9736   Estimated $154K     154000.0    $195K a year    195000.0    174500.0\n",
      "9738   Estimated $121K     121000.0    $153K a year    153000.0    137000.0\n",
      "9740  Estimated $71.7K      71700.0   $90.9K a year     90900.0     81300.0\n",
      "9741  Estimated $90.7K      90700.0    $115K a year    115000.0    102850.0\n",
      "9744   Estimated $106K     106000.0    $134K a year    134000.0    120000.0\n",
      "\n",
      "[3761 rows x 5 columns]\n"
     ]
    }
   ],
   "source": [
    "all_files = glob.glob(\"output/*.csv\")\n",
    "# print(all_files)\n",
    "li = []\n",
    "\n",
    "for filename in all_files:\n",
    "    df = pd.read_csv(filename, index_col=None, header=0, delimiter=';')\n",
    "    li.append(df)\n",
    "\n",
    "frame = pd.concat(li, axis=0, ignore_index=True)\n",
    "print(frame)\n",
    "frame = frame[['Title', 'Company', 'Location', 'Salary', 'Type']].drop_duplicates()\n",
    "print(frame)\n",
    "frame = frame.dropna(subset=['Salary'])\n",
    "print(frame)\n",
    "\n",
    "\n",
    "def find_salary(a):\n",
    "    if a:\n",
    "        pattern = '\\$[0-9]*[.,]?[0-9]*'\n",
    "        p = re.compile(pattern)\n",
    "        digits = p.findall(a)\n",
    "        new1 = digits[0].replace(\"$\", \"\")\n",
    "        new2 = new1.replace(\",\", \"\")\n",
    "\n",
    "        return float(new2)\n",
    "    else:\n",
    "        return 0\n",
    "\n",
    "\n",
    "frame[['min', 'max']] = frame.Salary.str.split('-', expand=True)\n",
    "frame['Min Salary'] = frame['min'].apply(find_salary).astype(float) * 1000\n",
    "frame['Max Salary'] = frame['max'].apply(find_salary).astype(float) * 1000\n",
    "frame['Avg Salary'] = (frame['Min Salary'] + frame['Max Salary']) / 2\n",
    "print(frame[['min', 'Min Salary', 'max', 'Max Salary', 'Avg Salary']])"
   ]
  },
  {
   "cell_type": "markdown",
   "metadata": {},
   "source": [
    "### Get Job Descriptions from individual links"
   ]
  },
  {
   "cell_type": "code",
   "execution_count": 95,
   "metadata": {},
   "outputs": [],
   "source": [
    "# descriptions=[]\n",
    "# for link in links:\n",
    "    \n",
    "#     driver.get(link)\n",
    "#     jd = driver.find_element(By.XPATH,'//div[@id=\"jobDescriptionText\"]').text\n",
    "#     descriptions.append(jd)"
   ]
  },
  {
   "cell_type": "code",
   "execution_count": 96,
   "metadata": {},
   "outputs": [],
   "source": [
    "# df_da=pd.DataFrame()\n",
    "# df_da['Title']=titles\n",
    "# df_da['Company']=companies\n",
    "# df_da['Location']=locations\n",
    "# # df_da['Link']=links\n",
    "# df_da['Salary']=salaries\n",
    "# df_da['Type']=types\n",
    "# df_da['Category']=categories\n",
    "# # df_da['Description']=descriptions"
   ]
  },
  {
   "cell_type": "code",
   "execution_count": 97,
   "metadata": {},
   "outputs": [
    {
     "data": {
      "text/html": [
       "<div>\n",
       "<style scoped>\n",
       "    .dataframe tbody tr th:only-of-type {\n",
       "        vertical-align: middle;\n",
       "    }\n",
       "\n",
       "    .dataframe tbody tr th {\n",
       "        vertical-align: top;\n",
       "    }\n",
       "\n",
       "    .dataframe thead th {\n",
       "        text-align: right;\n",
       "    }\n",
       "</style>\n",
       "<table border=\"1\" class=\"dataframe\">\n",
       "  <thead>\n",
       "    <tr style=\"text-align: right;\">\n",
       "      <th></th>\n",
       "      <th>Title</th>\n",
       "      <th>Company</th>\n",
       "      <th>Location</th>\n",
       "      <th>Salary</th>\n",
       "      <th>Type</th>\n",
       "      <th>Category</th>\n",
       "    </tr>\n",
       "  </thead>\n",
       "  <tbody>\n",
       "    <tr>\n",
       "      <th>0</th>\n",
       "      <td>Software Development (All Levels)</td>\n",
       "      <td>Instec Corp</td>\n",
       "      <td>Remote</td>\n",
       "      <td>Estimated $102K - $129K a year</td>\n",
       "      <td>None</td>\n",
       "      <td>development</td>\n",
       "    </tr>\n",
       "    <tr>\n",
       "      <th>1</th>\n",
       "      <td>Software Development (All Levels)</td>\n",
       "      <td>Iowa 80 Truckstop</td>\n",
       "      <td>Walcott, IA 52773\\n+2 locations</td>\n",
       "      <td>None</td>\n",
       "      <td>Full-time</td>\n",
       "      <td>development</td>\n",
       "    </tr>\n",
       "    <tr>\n",
       "      <th>2</th>\n",
       "      <td>Software Development (All Levels)</td>\n",
       "      <td>Pinterest</td>\n",
       "      <td>Remote</td>\n",
       "      <td>None</td>\n",
       "      <td>None</td>\n",
       "      <td>development</td>\n",
       "    </tr>\n",
       "    <tr>\n",
       "      <th>3</th>\n",
       "      <td>Software Development (All Levels)</td>\n",
       "      <td>City of Cape Coral, FL</td>\n",
       "      <td>City of Cape Coral, FL</td>\n",
       "      <td>None</td>\n",
       "      <td>Full-time</td>\n",
       "      <td>development</td>\n",
       "    </tr>\n",
       "    <tr>\n",
       "      <th>4</th>\n",
       "      <td>Software Development (All Levels)</td>\n",
       "      <td>Mayo Clinic</td>\n",
       "      <td>Remote in Rochester, MN</td>\n",
       "      <td>None</td>\n",
       "      <td>Full-time</td>\n",
       "      <td>development</td>\n",
       "    </tr>\n",
       "    <tr>\n",
       "      <th>5</th>\n",
       "      <td>Software Development (All Levels)</td>\n",
       "      <td>Insurity</td>\n",
       "      <td>Remote</td>\n",
       "      <td>None</td>\n",
       "      <td>None</td>\n",
       "      <td>development</td>\n",
       "    </tr>\n",
       "    <tr>\n",
       "      <th>6</th>\n",
       "      <td>Software Development (All Levels)</td>\n",
       "      <td>City of Cape Coral, FL</td>\n",
       "      <td>City of Cape Coral, FL</td>\n",
       "      <td>None</td>\n",
       "      <td>Full-time</td>\n",
       "      <td>development</td>\n",
       "    </tr>\n",
       "    <tr>\n",
       "      <th>7</th>\n",
       "      <td>Software Development (All Levels)</td>\n",
       "      <td>Amplify Education, Inc.</td>\n",
       "      <td>Remote</td>\n",
       "      <td>None</td>\n",
       "      <td>Full-time</td>\n",
       "      <td>development</td>\n",
       "    </tr>\n",
       "    <tr>\n",
       "      <th>8</th>\n",
       "      <td>Software Development (All Levels)</td>\n",
       "      <td>ZeniMax Media Inc.</td>\n",
       "      <td>Dallas, TX 75251\\n(North Dallas area)\\n+1 loca...</td>\n",
       "      <td>Estimated $64.1K - $81.1K a year</td>\n",
       "      <td>Full-time</td>\n",
       "      <td>development</td>\n",
       "    </tr>\n",
       "    <tr>\n",
       "      <th>9</th>\n",
       "      <td>Software Development (All Levels)</td>\n",
       "      <td>Bethesda Game Studios</td>\n",
       "      <td>Dallas, TX</td>\n",
       "      <td>Estimated $68.1K - $86.3K a year</td>\n",
       "      <td>None</td>\n",
       "      <td>development</td>\n",
       "    </tr>\n",
       "  </tbody>\n",
       "</table>\n",
       "</div>"
      ],
      "text/plain": [
       "                               Title                  Company  \\\n",
       "0  Software Development (All Levels)              Instec Corp   \n",
       "1  Software Development (All Levels)        Iowa 80 Truckstop   \n",
       "2  Software Development (All Levels)                Pinterest   \n",
       "3  Software Development (All Levels)   City of Cape Coral, FL   \n",
       "4  Software Development (All Levels)              Mayo Clinic   \n",
       "5  Software Development (All Levels)                 Insurity   \n",
       "6  Software Development (All Levels)   City of Cape Coral, FL   \n",
       "7  Software Development (All Levels)  Amplify Education, Inc.   \n",
       "8  Software Development (All Levels)       ZeniMax Media Inc.   \n",
       "9  Software Development (All Levels)    Bethesda Game Studios   \n",
       "\n",
       "                                            Location  \\\n",
       "0                                             Remote   \n",
       "1                    Walcott, IA 52773\\n+2 locations   \n",
       "2                                             Remote   \n",
       "3                             City of Cape Coral, FL   \n",
       "4                            Remote in Rochester, MN   \n",
       "5                                             Remote   \n",
       "6                             City of Cape Coral, FL   \n",
       "7                                             Remote   \n",
       "8  Dallas, TX 75251\\n(North Dallas area)\\n+1 loca...   \n",
       "9                                         Dallas, TX   \n",
       "\n",
       "                             Salary       Type     Category  \n",
       "0    Estimated $102K - $129K a year       None  development  \n",
       "1                              None  Full-time  development  \n",
       "2                              None       None  development  \n",
       "3                              None  Full-time  development  \n",
       "4                              None  Full-time  development  \n",
       "5                              None       None  development  \n",
       "6                              None  Full-time  development  \n",
       "7                              None  Full-time  development  \n",
       "8  Estimated $64.1K - $81.1K a year  Full-time  development  \n",
       "9  Estimated $68.1K - $86.3K a year       None  development  "
      ]
     },
     "execution_count": 97,
     "metadata": {},
     "output_type": "execute_result"
    }
   ],
   "source": [
    "df_da.head(10)"
   ]
  },
  {
   "cell_type": "code",
   "execution_count": 98,
   "metadata": {},
   "outputs": [],
   "source": [
    "# df_da['Salary'].nunique()"
   ]
  },
  {
   "cell_type": "code",
   "execution_count": 99,
   "metadata": {},
   "outputs": [],
   "source": [
    "# df_da.to_csv('DS_PaloAltoCA.csv')"
   ]
  },
  {
   "cell_type": "markdown",
   "metadata": {},
   "source": [
    "Until now, I am able to get 150 most recent Data Analyst Jobs in New York"
   ]
  },
  {
   "cell_type": "code",
   "execution_count": 100,
   "metadata": {},
   "outputs": [
    {
     "name": "stdout",
     "output_type": "stream",
     "text": [
      "<class 'pandas.core.frame.DataFrame'>\n",
      "RangeIndex: 975 entries, 0 to 974\n",
      "Data columns (total 6 columns):\n",
      " #   Column    Non-Null Count  Dtype \n",
      "---  ------    --------------  ----- \n",
      " 0   Title     962 non-null    object\n",
      " 1   Company   962 non-null    object\n",
      " 2   Location  962 non-null    object\n",
      " 3   Salary    164 non-null    object\n",
      " 4   Type      659 non-null    object\n",
      " 5   Category  975 non-null    object\n",
      "dtypes: object(6)\n",
      "memory usage: 45.8+ KB\n"
     ]
    }
   ],
   "source": [
    "df_da.info()"
   ]
  },
  {
   "cell_type": "code",
   "execution_count": null,
   "metadata": {},
   "outputs": [],
   "source": []
  },
  {
   "cell_type": "code",
   "execution_count": null,
   "metadata": {},
   "outputs": [],
   "source": []
  },
  {
   "cell_type": "markdown",
   "metadata": {},
   "source": [
    "### Turn it into a function to grab multiple positions and cities"
   ]
  },
  {
   "cell_type": "code",
   "execution_count": 101,
   "metadata": {},
   "outputs": [],
   "source": [
    "# driver.get('https://indeed.com')\n",
    "\n",
    "# initial_search = driver.find_element(By.XPATH,'//*[@id=\"whatWhereFormId\"]/div[3]/button')\n",
    "# initial_search.click()\n",
    "\n",
    "# advanced_search = driver.find_element(By.XPATH,'//*[@id=\"jobsearch\"]/table/tbody/tr/td[4]/div/a')\n",
    "# advanced_search.click()\n",
    "\n"
   ]
  },
  {
   "cell_type": "code",
   "execution_count": 102,
   "metadata": {},
   "outputs": [],
   "source": [
    "# def get_jobs(position='data scientist', city='New York', pages=1):\n",
    "    \n",
    "    \n",
    "#     search_job = driver.find_element(By.XPATH,'//input[@id=\"as_and\"]')\n",
    "#     search_job.send_keys(position)\n",
    "\n",
    "#     display_limit = driver.find_element(By.XPATH,'//select[@id=\"limit\"]//option[@value=\"30\"]')\n",
    "#     display_limit.click()\n",
    "\n",
    "#     sort_option = driver.find_element(By.XPATH,'//select[@id=\"sort\"]//option[@value=\"date\"]')\n",
    "#     sort_option.click()\n",
    "\n",
    "#     search_button = driver.find_element(By.XPATH,'//*[@id=\"fj\"]')\n",
    "#     search_button.click()\n",
    "    \n",
    "    \n",
    "#     titles=[]\n",
    "#     companies=[]\n",
    "#     locations=[]\n",
    "#     links =[]\n",
    "#     reviews=[]\n",
    "#     salaries = []\n",
    "    \n",
    "    \n",
    "#     for i in range(0,pages):\n",
    "\n",
    "#         job_card = driver.find_elements_by_xpath('//div[contains(@class,\"clickcard\")]')\n",
    "\n",
    "#         for job in job_card:\n",
    "\n",
    "#             try:\n",
    "#                 review = job.find_element(By.XPATH,'.//span[@class=\"ratingsContent\"]').text\n",
    "#             except:\n",
    "#                 review = None\n",
    "#             reviews.append(review)\n",
    "\n",
    "#             try:\n",
    "#                 salary = job.find_element(By.XPATH,'.//span[@class=\"salaryText\"]').text\n",
    "#             except:\n",
    "#                 salary = None\n",
    "#         #.  tells only to look at the element       \n",
    "#             salaries.append(salary)\n",
    "\n",
    "#             try:\n",
    "#                 location = job.find_element(By.XPATH,'.//span[contains(@class,\"location\")]').text\n",
    "#             except:\n",
    "#                 location = None\n",
    "#         #.  tells only to look at the element       \n",
    "#             locations.append(location)\n",
    "\n",
    "#             titles.append(job.find_element(By.XPATH,'.//h2[@class=\"title\"]//a').get_attribute(name=\"title\"))\n",
    "#             links.append(job.find_element(By.XPATH,'.//h2[@class=\"title\"]//a').get_attribute(name=\"href\"))\n",
    "#             companies.append(job.find_element(By.XPATH,'.//span[@class=\"company\"]').text)\n",
    "\n",
    "\n",
    "#         #try:\n",
    "#             #next_page = driver.find_element(By.XPATH,'//a[.//span[contains(text(),\"Next\")]]')\n",
    "#             #next_page.click()\n",
    "#         #except:\n",
    "#         next_page = driver.find_element(By.XPATH,'//a[@aria-label=\"Next\"]//span[@class=\"np\"]')\n",
    "#         next_page.click()\n",
    "\n",
    "#         print(\"Page: {}\".format(str(i)))\n",
    "        \n",
    "#     df=pd.DataFrame()\n",
    "#     df['Title']=titles\n",
    "#     df['Company']=companies\n",
    "#     df['Location']=locations\n",
    "#     df['Link']=links\n",
    "#     df['Review']=reviews\n",
    "#     df['Salary']=salaries\n",
    "    \n",
    "#     return df"
   ]
  },
  {
   "cell_type": "code",
   "execution_count": null,
   "metadata": {},
   "outputs": [],
   "source": []
  },
  {
   "cell_type": "code",
   "execution_count": null,
   "metadata": {},
   "outputs": [],
   "source": []
  },
  {
   "cell_type": "code",
   "execution_count": null,
   "metadata": {},
   "outputs": [],
   "source": []
  },
  {
   "cell_type": "code",
   "execution_count": 103,
   "metadata": {},
   "outputs": [],
   "source": [
    "# job = driver.find_element(By.XPATH,'.//h2[@class=\"title\"]//a').text\n",
    "# job"
   ]
  },
  {
   "cell_type": "code",
   "execution_count": 104,
   "metadata": {},
   "outputs": [],
   "source": [
    "# next_page = driver.find_element(By.XPATH,'//a//span[contains(text(),\"13\")]')\n",
    "# next_page.click()"
   ]
  },
  {
   "cell_type": "code",
   "execution_count": 105,
   "metadata": {},
   "outputs": [],
   "source": [
    "# #//*[@id=\"resultsCol\"]/nav/div/ul/li[1]/a/span/span\n",
    "# #//*[@id=\"resultsCol\"]/nav/div/ul/li[7]/a/span/span\n",
    "# driver.refresh()\n",
    "# #next_page = driver.find_element(By.XPATH,'//a[.//span[contains(text(),\"Next\")]]')\n",
    "# #next_page.click()\n",
    "\n",
    "# next_page = driver.find_element(By.XPATH,'//a[@aria-label=\"Next\"]//span[@class=\"np\"]')\n",
    "# next_page.click()"
   ]
  },
  {
   "cell_type": "code",
   "execution_count": 106,
   "metadata": {},
   "outputs": [],
   "source": [
    "# driver.refresh()\n",
    "\n",
    "# #for page in range(1,10):\n",
    "# next_page = driver.find_element(By.XPATH,'//a[@aria-label={}]//span[@class=\"pn\"]'.format(2))\n",
    "# next_page.click()"
   ]
  },
  {
   "cell_type": "code",
   "execution_count": 107,
   "metadata": {},
   "outputs": [],
   "source": [
    "#job description\n",
    "        #job.find_element(By.XPATH,'//h2[@class=\"title\"]')\n",
    "        #job.click()\n",
    "        #driver.refresh()\n",
    "        #description = driver.find_element(By.XPATH,'//div[@id=\"jobDescriptionText\"]')\n",
    "        #description = WebDriverWait(driver, 10).until(EC.presence_of_element_located((By.XPATH, '//div[@id=\"jobDescriptionText\"]')))\n",
    "        #descriptions.append(description.text)"
   ]
  }
 ],
 "metadata": {
  "kernelspec": {
   "display_name": "Python 3.10.2 64-bit (windows store)",
   "language": "python",
   "name": "python3"
  },
  "language_info": {
   "codemirror_mode": {
    "name": "ipython",
    "version": 3
   },
   "file_extension": ".py",
   "mimetype": "text/x-python",
   "name": "python",
   "nbconvert_exporter": "python",
   "pygments_lexer": "ipython3",
   "version": "3.10.5"
  },
  "toc": {
   "base_numbering": 1,
   "nav_menu": {},
   "number_sections": true,
   "sideBar": true,
   "skip_h1_title": false,
   "title_cell": "Table of Contents",
   "title_sidebar": "Contents",
   "toc_cell": false,
   "toc_position": {},
   "toc_section_display": true,
   "toc_window_display": true
  },
  "varInspector": {
   "cols": {
    "lenName": "20",
    "lenType": 16,
    "lenVar": 40
   },
   "kernels_config": {
    "python": {
     "delete_cmd_postfix": "",
     "delete_cmd_prefix": "del ",
     "library": "var_list.py",
     "varRefreshCmd": "print(var_dic_list())"
    },
    "r": {
     "delete_cmd_postfix": ") ",
     "delete_cmd_prefix": "rm(",
     "library": "var_list.r",
     "varRefreshCmd": "cat(var_dic_list()) "
    }
   },
   "types_to_exclude": [
    "module",
    "function",
    "builtin_function_or_method",
    "instance",
    "_Feature"
   ],
   "window_display": true
  },
  "vscode": {
   "interpreter": {
    "hash": "9121c89f9934acd00561cd54525e16717599c67e6e0655945e2fcf5b4dea365d"
   }
  }
 },
 "nbformat": 4,
 "nbformat_minor": 2
}
